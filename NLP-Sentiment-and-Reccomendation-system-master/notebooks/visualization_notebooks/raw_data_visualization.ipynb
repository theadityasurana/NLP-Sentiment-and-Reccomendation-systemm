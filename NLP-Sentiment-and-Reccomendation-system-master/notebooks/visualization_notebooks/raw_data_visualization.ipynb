{
 "cells": [
  {
   "cell_type": "code",
   "execution_count": 1,
   "metadata": {},
   "outputs": [],
   "source": [
    "import pandas as pd\n",
    "import glob\n",
    "import matplotlib.pyplot as plt\n",
    "import numpy\n",
    "import json\n",
    "\n",
    "### Check for randomization by Glob function in file name query"
   ]
  },
  {
   "cell_type": "code",
   "execution_count": 2,
   "metadata": {},
   "outputs": [
    {
     "name": "stdout",
     "output_type": "stream",
     "text": [
      "12500\n",
      "12500\n"
     ]
    }
   ],
   "source": [
    "df = pd.DataFrame(columns=[\"ReviewId\", \"Rating\" , \"LReview\", \"Review\", \"MovieID\", \"Name\"])\n",
    "\n",
    "positive_files = glob.glob(\"../../../../aclImdb/test/pos/*\")\n",
    "print(len(positive_files))\n",
    "\n",
    "negative_files = glob.glob(\"../../../../aclImdb/test/neg/*\")\n",
    "print(len(negative_files))\n",
    "\n",
    "Mnames = pd.read_json(\"../../../../aclImdb/TestMovieDetails.json\")\n",
    "\n",
    "movies_neg = []\n",
    "movies_pos = []\n",
    "\n",
    "n = 0\n",
    "\n",
    "try:\n",
    "    fp = open('../../../../aclImdb/test/urls_pos.txt')\n",
    "    while(n<200):\n",
    "        movies_pos.append(fp.readline()[26:35])\n",
    "        n+=1\n",
    "finally:\n",
    "    fp.close()\n",
    "\n",
    "n = 0\n",
    "\n",
    "try:\n",
    "    fp = open('../../../../aclImdb/test/urls_neg.txt')\n",
    "    while(n<200):\n",
    "        movies_neg.append(fp.readline()[26:35])\n",
    "        n+=1\n",
    "finally:\n",
    "    fp.close()\n"
   ]
  },
  {
   "cell_type": "code",
   "execution_count": 3,
   "metadata": {},
   "outputs": [
    {
     "data": {
      "text/html": [
       "<div>\n",
       "<style scoped>\n",
       "    .dataframe tbody tr th:only-of-type {\n",
       "        vertical-align: middle;\n",
       "    }\n",
       "\n",
       "    .dataframe tbody tr th {\n",
       "        vertical-align: top;\n",
       "    }\n",
       "\n",
       "    .dataframe thead th {\n",
       "        text-align: right;\n",
       "    }\n",
       "</style>\n",
       "<table border=\"1\" class=\"dataframe\">\n",
       "  <thead>\n",
       "    <tr style=\"text-align: right;\">\n",
       "      <th></th>\n",
       "      <th>ReviewId</th>\n",
       "      <th>Rating</th>\n",
       "      <th>LReview</th>\n",
       "      <th>Review</th>\n",
       "      <th>MovieID</th>\n",
       "      <th>Name</th>\n",
       "    </tr>\n",
       "  </thead>\n",
       "  <tbody>\n",
       "    <tr>\n",
       "      <th>92</th>\n",
       "      <td>92</td>\n",
       "      <td>1</td>\n",
       "      <td>1043</td>\n",
       "      <td>Well........how and where do I start to descri...</td>\n",
       "      <td>tt0291257</td>\n",
       "      <td>2    Lackawanna Blues\\nName: Title, dtype: object</td>\n",
       "    </tr>\n",
       "    <tr>\n",
       "      <th>977</th>\n",
       "      <td>977</td>\n",
       "      <td>1</td>\n",
       "      <td>828</td>\n",
       "      <td>The title leads viewers to believe that this i...</td>\n",
       "      <td>tt0082525</td>\n",
       "      <td>4    Acrobatty Bunny\\nName: Title, dtype: object</td>\n",
       "    </tr>\n",
       "    <tr>\n",
       "      <th>1890</th>\n",
       "      <td>1890</td>\n",
       "      <td>1</td>\n",
       "      <td>844</td>\n",
       "      <td>I was forced to watch this film for my World R...</td>\n",
       "      <td>tt0065611</td>\n",
       "      <td>0    The Guardian\\nName: Title, dtype: object</td>\n",
       "    </tr>\n",
       "    <tr>\n",
       "      <th>0096</th>\n",
       "      <td>96</td>\n",
       "      <td>1</td>\n",
       "      <td>655</td>\n",
       "      <td>Worst movie ever seen. Worst acting too. I can...</td>\n",
       "      <td>tt0065611</td>\n",
       "      <td>0    The Guardian\\nName: Title, dtype: object</td>\n",
       "    </tr>\n",
       "    <tr>\n",
       "      <th>908</th>\n",
       "      <td>908</td>\n",
       "      <td>1</td>\n",
       "      <td>1503</td>\n",
       "      <td>What i hate most in this garbage is the arroga...</td>\n",
       "      <td>tt0018294</td>\n",
       "      <td>9    Thirst\\nName: Title, dtype: object</td>\n",
       "    </tr>\n",
       "  </tbody>\n",
       "</table>\n",
       "</div>"
      ],
      "text/plain": [
       "      ReviewId  Rating  LReview  \\\n",
       "92          92       1     1043   \n",
       "977        977       1      828   \n",
       "1890      1890       1      844   \n",
       "0096        96       1      655   \n",
       "908        908       1     1503   \n",
       "\n",
       "                                                 Review    MovieID  \\\n",
       "92    Well........how and where do I start to descri...  tt0291257   \n",
       "977   The title leads viewers to believe that this i...  tt0082525   \n",
       "1890  I was forced to watch this film for my World R...  tt0065611   \n",
       "0096  Worst movie ever seen. Worst acting too. I can...  tt0065611   \n",
       "908   What i hate most in this garbage is the arroga...  tt0018294   \n",
       "\n",
       "                                                   Name  \n",
       "92    2    Lackawanna Blues\\nName: Title, dtype: object  \n",
       "977    4    Acrobatty Bunny\\nName: Title, dtype: object  \n",
       "1890      0    The Guardian\\nName: Title, dtype: object  \n",
       "0096      0    The Guardian\\nName: Title, dtype: object  \n",
       "908             9    Thirst\\nName: Title, dtype: object  "
      ]
     },
     "execution_count": 3,
     "metadata": {},
     "output_type": "execute_result"
    }
   ],
   "source": [
    "positive_files = positive_files[:200]\n",
    "negative_files = negative_files[:200]\n",
    "n=0\n",
    "for i in positive_files:\n",
    "    part = i[30:]\n",
    "    rating = part[part.index('_')+1: part.index('.')]\n",
    "    df.at[(part[:part.index('_')]), \"Rating\"] = int(rating)\n",
    "    df.at[(part[:part.index('_')]), \"MovieID\"] = movies_pos[n]\n",
    "    df.at[(part[:part.index('_')]), \"Name\"] = str(Mnames.loc[Mnames['imdbID'] == movies_pos[n]]['Title'])\n",
    "    with open(i) as f:\n",
    "        temp = f.read()\n",
    "        df.at[(part[:part.index('_')]), \"Review\"] = temp\n",
    "        df.at[(part[:part.index('_')]), \"LReview\"] = len(temp)\n",
    "    n+=1\n",
    "\n",
    "n=0  \n",
    "\n",
    "for i in negative_files:\n",
    "    part = i[30:]\n",
    "    rating = part[part.index('_')+1: part.index('.')]\n",
    "    df.at[(part[:part.index('_')]), \"Rating\"] = int(rating)\n",
    "    df.at[(part[:part.index('_')]), \"MovieID\"] = movies_neg[n]\n",
    "    df.at[(part[:part.index('_')]), \"Name\"] = str(Mnames.loc[Mnames['imdbID'] == movies_pos[n]]['Title'])\n",
    "    with open(i) as f:\n",
    "        temp = f.read()\n",
    "        df.at[(part[:part.index('_')]), \"Review\"] = temp\n",
    "        df.at[(part[:part.index('_')]), \"LReview\"] = len(temp)\n",
    "    n+=1\n",
    "        \n",
    "df[\"ReviewId\"] = df.index.values\n",
    "\n",
    "df.sort_values(by=['Rating'], inplace=True)\n",
    "\n",
    "df[\"ReviewId\"] = pd.to_numeric(df['ReviewId'])\n",
    "\n",
    "df[\"LReview\"] = pd.to_numeric(df['LReview'])\n",
    "\n",
    "df[\"Rating\"] = pd.to_numeric(df['Rating'])\n",
    "\n",
    "df.head()"
   ]
  },
  {
   "cell_type": "code",
   "execution_count": 4,
   "metadata": {},
   "outputs": [
    {
     "data": {
      "text/plain": [
       "ReviewId     int64\n",
       "Rating       int64\n",
       "LReview      int64\n",
       "Review      object\n",
       "MovieID     object\n",
       "Name        object\n",
       "dtype: object"
      ]
     },
     "execution_count": 4,
     "metadata": {},
     "output_type": "execute_result"
    }
   ],
   "source": [
    "df.dtypes"
   ]
  },
  {
   "cell_type": "code",
   "execution_count": 5,
   "metadata": {},
   "outputs": [
    {
     "data": {
      "text/plain": [
       "Text(0, 0.5, 'Count')"
      ]
     },
     "execution_count": 5,
     "metadata": {},
     "output_type": "execute_result"
    },
    {
     "data": {
      "image/png": "[encoded data removed]",
      "text/plain": [
       "<Figure size 720x576 with 1 Axes>"
      ]
     },
     "metadata": {
      "needs_background": "light"
     },
     "output_type": "display_data"
    }
   ],
   "source": [
    "df[\"Rating\"].plot.hist(grid=True, bins=len(df[\"Rating\"].unique()), figsize=(10, 8), color='#607c8e')\n",
    "plt.title('Movie Ratings')\n",
    "plt.xlabel('Rating')\n",
    "plt.ylabel('Count')"
   ]
  },
  {
   "cell_type": "code",
   "execution_count": 6,
   "metadata": {},
   "outputs": [
    {
     "data": {
      "image/png": "[encoded data removed]",
      "text/plain": [
       "<Figure size 1080x360 with 1 Axes>"
      ]
     },
     "metadata": {
      "needs_background": "light"
     },
     "output_type": "display_data"
    }
   ],
   "source": [
    "plt.figure(figsize=(15,5))\n",
    "dfp = df[df[\"Rating\"]<5]\n",
    "dfn = df[df[\"Rating\"]>5]\n",
    "\n",
    "plt.title('Movie Reviews')\n",
    "plt.xlabel('ReviewId')\n",
    "plt.ylabel('Length of Review')\n",
    "plt.scatter(x=dfp[\"ReviewId\"], y=dfp[\"LReview\"], c='DarkBlue', label='Positive' )\n",
    "plt.scatter(x=dfn[\"ReviewId\"], y=dfn[\"LReview\"], c='Red', label='Negative' )\n",
    "plt.legend(loc=\"best\")\n",
    "plt.show()\n"
   ]
  },
  {
   "cell_type": "code",
   "execution_count": 28,
   "metadata": {},
   "outputs": [
    {
     "data": {
      "text/html": [
       "<div>\n",
       "<style scoped>\n",
       "    .dataframe tbody tr th:only-of-type {\n",
       "        vertical-align: middle;\n",
       "    }\n",
       "\n",
       "    .dataframe tbody tr th {\n",
       "        vertical-align: top;\n",
       "    }\n",
       "\n",
       "    .dataframe thead th {\n",
       "        text-align: right;\n",
       "    }\n",
       "</style>\n",
       "<table border=\"1\" class=\"dataframe\">\n",
       "  <thead>\n",
       "    <tr style=\"text-align: right;\">\n",
       "      <th></th>\n",
       "      <th>ReviewId</th>\n",
       "      <th>Rating</th>\n",
       "      <th>LReview</th>\n",
       "      <th>Review</th>\n",
       "      <th>MovieID</th>\n",
       "      <th>Name</th>\n",
       "    </tr>\n",
       "  </thead>\n",
       "  <tbody>\n",
       "    <tr>\n",
       "      <th>1890</th>\n",
       "      <td>1890</td>\n",
       "      <td>1</td>\n",
       "      <td>844</td>\n",
       "      <td>I was forced to watch this film for my World R...</td>\n",
       "      <td>tt0065611</td>\n",
       "      <td>0    The Guardian\\nName: Title, dtype: object</td>\n",
       "    </tr>\n",
       "    <tr>\n",
       "      <th>0096</th>\n",
       "      <td>96</td>\n",
       "      <td>1</td>\n",
       "      <td>655</td>\n",
       "      <td>Worst movie ever seen. Worst acting too. I can...</td>\n",
       "      <td>tt0065611</td>\n",
       "      <td>0    The Guardian\\nName: Title, dtype: object</td>\n",
       "    </tr>\n",
       "    <tr>\n",
       "      <th>008</th>\n",
       "      <td>8</td>\n",
       "      <td>1</td>\n",
       "      <td>850</td>\n",
       "      <td>Well it is about 1,000 years in the future and...</td>\n",
       "      <td>tt0065611</td>\n",
       "      <td>0    The Guardian\\nName: Title, dtype: object</td>\n",
       "    </tr>\n",
       "    <tr>\n",
       "      <th>248</th>\n",
       "      <td>248</td>\n",
       "      <td>3</td>\n",
       "      <td>1553</td>\n",
       "      <td>When Hollywood is trying to grasp what an \"int...</td>\n",
       "      <td>tt0065611</td>\n",
       "      <td>0    The Guardian\\nName: Title, dtype: object</td>\n",
       "    </tr>\n",
       "    <tr>\n",
       "      <th>027</th>\n",
       "      <td>27</td>\n",
       "      <td>4</td>\n",
       "      <td>467</td>\n",
       "      <td>Technically abominable (with audible \"pops\" be...</td>\n",
       "      <td>tt0065611</td>\n",
       "      <td>0    The Guardian\\nName: Title, dtype: object</td>\n",
       "    </tr>\n",
       "    <tr>\n",
       "      <th>290</th>\n",
       "      <td>290</td>\n",
       "      <td>4</td>\n",
       "      <td>1490</td>\n",
       "      <td>Respected western auteur Budd Boetticher is wo...</td>\n",
       "      <td>tt0065611</td>\n",
       "      <td>0    The Guardian\\nName: Title, dtype: object</td>\n",
       "    </tr>\n",
       "    <tr>\n",
       "      <th>72</th>\n",
       "      <td>72</td>\n",
       "      <td>4</td>\n",
       "      <td>2109</td>\n",
       "      <td>Man with the Screaming Brain is a story of gre...</td>\n",
       "      <td>tt0065611</td>\n",
       "      <td>0    The Guardian\\nName: Title, dtype: object</td>\n",
       "    </tr>\n",
       "    <tr>\n",
       "      <th>468</th>\n",
       "      <td>468</td>\n",
       "      <td>7</td>\n",
       "      <td>1132</td>\n",
       "      <td>This British documentary was recently shown on...</td>\n",
       "      <td>tt0065611</td>\n",
       "      <td>3    Darling Lili\\nName: Title, dtype: object</td>\n",
       "    </tr>\n",
       "    <tr>\n",
       "      <th>655</th>\n",
       "      <td>655</td>\n",
       "      <td>7</td>\n",
       "      <td>1521</td>\n",
       "      <td>I went into this film thinking I wasn't going ...</td>\n",
       "      <td>tt0065611</td>\n",
       "      <td>3    Darling Lili\\nName: Title, dtype: object</td>\n",
       "    </tr>\n",
       "    <tr>\n",
       "      <th>0780</th>\n",
       "      <td>780</td>\n",
       "      <td>7</td>\n",
       "      <td>5796</td>\n",
       "      <td>Talk Radio sees a man somewhat accidentally st...</td>\n",
       "      <td>tt0065611</td>\n",
       "      <td>3    Darling Lili\\nName: Title, dtype: object</td>\n",
       "    </tr>\n",
       "    <tr>\n",
       "      <th>883</th>\n",
       "      <td>883</td>\n",
       "      <td>8</td>\n",
       "      <td>632</td>\n",
       "      <td>I enjoyed this film and after it finished it s...</td>\n",
       "      <td>tt0065611</td>\n",
       "      <td>3    Darling Lili\\nName: Title, dtype: object</td>\n",
       "    </tr>\n",
       "    <tr>\n",
       "      <th>595</th>\n",
       "      <td>595</td>\n",
       "      <td>8</td>\n",
       "      <td>809</td>\n",
       "      <td>I've never seen a movie get a worse release th...</td>\n",
       "      <td>tt0065611</td>\n",
       "      <td>3    Darling Lili\\nName: Title, dtype: object</td>\n",
       "    </tr>\n",
       "    <tr>\n",
       "      <th>232</th>\n",
       "      <td>232</td>\n",
       "      <td>8</td>\n",
       "      <td>1310</td>\n",
       "      <td>Once upon a time, Troma, the company that brou...</td>\n",
       "      <td>tt0065611</td>\n",
       "      <td>3    Darling Lili\\nName: Title, dtype: object</td>\n",
       "    </tr>\n",
       "    <tr>\n",
       "      <th>339</th>\n",
       "      <td>339</td>\n",
       "      <td>9</td>\n",
       "      <td>1900</td>\n",
       "      <td>I was extremely amused to read some of the bad...</td>\n",
       "      <td>tt0065611</td>\n",
       "      <td>3    Darling Lili\\nName: Title, dtype: object</td>\n",
       "    </tr>\n",
       "    <tr>\n",
       "      <th>059</th>\n",
       "      <td>59</td>\n",
       "      <td>10</td>\n",
       "      <td>1516</td>\n",
       "      <td>We start all of our reviews with the following...</td>\n",
       "      <td>tt0065611</td>\n",
       "      <td>3    Darling Lili\\nName: Title, dtype: object</td>\n",
       "    </tr>\n",
       "    <tr>\n",
       "      <th>188</th>\n",
       "      <td>188</td>\n",
       "      <td>10</td>\n",
       "      <td>673</td>\n",
       "      <td>To experience Head you really need to understa...</td>\n",
       "      <td>tt0065611</td>\n",
       "      <td>3    Darling Lili\\nName: Title, dtype: object</td>\n",
       "    </tr>\n",
       "    <tr>\n",
       "      <th>2066</th>\n",
       "      <td>2066</td>\n",
       "      <td>10</td>\n",
       "      <td>1177</td>\n",
       "      <td>This show is verging on brilliant. It's a mode...</td>\n",
       "      <td>tt0065611</td>\n",
       "      <td>3    Darling Lili\\nName: Title, dtype: object</td>\n",
       "    </tr>\n",
       "    <tr>\n",
       "      <th>880</th>\n",
       "      <td>880</td>\n",
       "      <td>10</td>\n",
       "      <td>550</td>\n",
       "      <td>I really liked the Movie \"JOE.\" It has really ...</td>\n",
       "      <td>tt0065611</td>\n",
       "      <td>3    Darling Lili\\nName: Title, dtype: object</td>\n",
       "    </tr>\n",
       "    <tr>\n",
       "      <th>494</th>\n",
       "      <td>494</td>\n",
       "      <td>10</td>\n",
       "      <td>1846</td>\n",
       "      <td>...the last time I laughed this much. It's a t...</td>\n",
       "      <td>tt0065611</td>\n",
       "      <td>3    Darling Lili\\nName: Title, dtype: object</td>\n",
       "    </tr>\n",
       "    <tr>\n",
       "      <th>591</th>\n",
       "      <td>591</td>\n",
       "      <td>10</td>\n",
       "      <td>730</td>\n",
       "      <td>.....whoops - looks like it's gonna cost you a...</td>\n",
       "      <td>tt0065611</td>\n",
       "      <td>3    Darling Lili\\nName: Title, dtype: object</td>\n",
       "    </tr>\n",
       "  </tbody>\n",
       "</table>\n",
       "</div>"
      ],
      "text/plain": [
       "      ReviewId  Rating  LReview  \\\n",
       "1890      1890       1      844   \n",
       "0096        96       1      655   \n",
       "008          8       1      850   \n",
       "248        248       3     1553   \n",
       "027         27       4      467   \n",
       "290        290       4     1490   \n",
       "72          72       4     2109   \n",
       "468        468       7     1132   \n",
       "655        655       7     1521   \n",
       "0780       780       7     5796   \n",
       "883        883       8      632   \n",
       "595        595       8      809   \n",
       "232        232       8     1310   \n",
       "339        339       9     1900   \n",
       "059         59      10     1516   \n",
       "188        188      10      673   \n",
       "2066      2066      10     1177   \n",
       "880        880      10      550   \n",
       "494        494      10     1846   \n",
       "591        591      10      730   \n",
       "\n",
       "                                                 Review    MovieID  \\\n",
       "1890  I was forced to watch this film for my World R...  tt0065611   \n",
       "0096  Worst movie ever seen. Worst acting too. I can...  tt0065611   \n",
       "008   Well it is about 1,000 years in the future and...  tt0065611   \n",
       "248   When Hollywood is trying to grasp what an \"int...  tt0065611   \n",
       "027   Technically abominable (with audible \"pops\" be...  tt0065611   \n",
       "290   Respected western auteur Budd Boetticher is wo...  tt0065611   \n",
       "72    Man with the Screaming Brain is a story of gre...  tt0065611   \n",
       "468   This British documentary was recently shown on...  tt0065611   \n",
       "655   I went into this film thinking I wasn't going ...  tt0065611   \n",
       "0780  Talk Radio sees a man somewhat accidentally st...  tt0065611   \n",
       "883   I enjoyed this film and after it finished it s...  tt0065611   \n",
       "595   I've never seen a movie get a worse release th...  tt0065611   \n",
       "232   Once upon a time, Troma, the company that brou...  tt0065611   \n",
       "339   I was extremely amused to read some of the bad...  tt0065611   \n",
       "059   We start all of our reviews with the following...  tt0065611   \n",
       "188   To experience Head you really need to understa...  tt0065611   \n",
       "2066  This show is verging on brilliant. It's a mode...  tt0065611   \n",
       "880   I really liked the Movie \"JOE.\" It has really ...  tt0065611   \n",
       "494   ...the last time I laughed this much. It's a t...  tt0065611   \n",
       "591   .....whoops - looks like it's gonna cost you a...  tt0065611   \n",
       "\n",
       "                                               Name  \n",
       "1890  0    The Guardian\\nName: Title, dtype: object  \n",
       "0096  0    The Guardian\\nName: Title, dtype: object  \n",
       "008   0    The Guardian\\nName: Title, dtype: object  \n",
       "248   0    The Guardian\\nName: Title, dtype: object  \n",
       "027   0    The Guardian\\nName: Title, dtype: object  \n",
       "290   0    The Guardian\\nName: Title, dtype: object  \n",
       "72    0    The Guardian\\nName: Title, dtype: object  \n",
       "468   3    Darling Lili\\nName: Title, dtype: object  \n",
       "655   3    Darling Lili\\nName: Title, dtype: object  \n",
       "0780  3    Darling Lili\\nName: Title, dtype: object  \n",
       "883   3    Darling Lili\\nName: Title, dtype: object  \n",
       "595   3    Darling Lili\\nName: Title, dtype: object  \n",
       "232   3    Darling Lili\\nName: Title, dtype: object  \n",
       "339   3    Darling Lili\\nName: Title, dtype: object  \n",
       "059   3    Darling Lili\\nName: Title, dtype: object  \n",
       "188   3    Darling Lili\\nName: Title, dtype: object  \n",
       "2066  3    Darling Lili\\nName: Title, dtype: object  \n",
       "880   3    Darling Lili\\nName: Title, dtype: object  \n",
       "494   3    Darling Lili\\nName: Title, dtype: object  \n",
       "591   3    Darling Lili\\nName: Title, dtype: object  "
      ]
     },
     "execution_count": 28,
     "metadata": {},
     "output_type": "execute_result"
    }
   ],
   "source": [
    "a = 'tt0065611'\n",
    "tdf = df[df[\"MovieID\"] == a]\n",
    "tdf"
   ]
  },
  {
   "cell_type": "code",
   "execution_count": 29,
   "metadata": {},
   "outputs": [
    {
     "data": {
      "text/plain": [
       "<matplotlib.axes._subplots.AxesSubplot at 0x12057c860>"
      ]
     },
     "execution_count": 29,
     "metadata": {},
     "output_type": "execute_result"
    },
    {
     "data": {
      "image/png": "[encoded data removed]",
      "text/plain": [
       "<Figure size 360x360 with 1 Axes>"
      ]
     },
     "metadata": {},
     "output_type": "display_data"
    }
   ],
   "source": [
    "counts = pd.DataFrame(tdf['Rating'].value_counts())\n",
    "counts.plot.pie(y='Rating', figsize=(5, 5))"
   ]
  },
  {
   "cell_type": "code",
   "execution_count": 30,
   "metadata": {},
   "outputs": [
    {
     "data": {
      "text/html": [
       "<div>\n",
       "<style scoped>\n",
       "    .dataframe tbody tr th:only-of-type {\n",
       "        vertical-align: middle;\n",
       "    }\n",
       "\n",
       "    .dataframe tbody tr th {\n",
       "        vertical-align: top;\n",
       "    }\n",
       "\n",
       "    .dataframe thead th {\n",
       "        text-align: right;\n",
       "    }\n",
       "</style>\n",
       "<table border=\"1\" class=\"dataframe\">\n",
       "  <thead>\n",
       "    <tr style=\"text-align: right;\">\n",
       "      <th></th>\n",
       "      <th>Positive</th>\n",
       "      <th>Negative</th>\n",
       "    </tr>\n",
       "  </thead>\n",
       "  <tbody>\n",
       "    <tr>\n",
       "      <th>0</th>\n",
       "      <td>0</td>\n",
       "      <td>0</td>\n",
       "    </tr>\n",
       "  </tbody>\n",
       "</table>\n",
       "</div>"
      ],
      "text/plain": [
       "   Positive  Negative\n",
       "0         0         0"
      ]
     },
     "execution_count": 30,
     "metadata": {},
     "output_type": "execute_result"
    }
   ],
   "source": [
    "bar = pd.DataFrame({\"Positive\":[0],\n",
    "                    \"Negative\":[0]})\n",
    "bar"
   ]
  },
  {
   "cell_type": "code",
   "execution_count": 31,
   "metadata": {},
   "outputs": [
    {
     "data": {
      "text/html": [
       "<div>\n",
       "<style scoped>\n",
       "    .dataframe tbody tr th:only-of-type {\n",
       "        vertical-align: middle;\n",
       "    }\n",
       "\n",
       "    .dataframe tbody tr th {\n",
       "        vertical-align: top;\n",
       "    }\n",
       "\n",
       "    .dataframe thead th {\n",
       "        text-align: right;\n",
       "    }\n",
       "</style>\n",
       "<table border=\"1\" class=\"dataframe\">\n",
       "  <thead>\n",
       "    <tr style=\"text-align: right;\">\n",
       "      <th></th>\n",
       "      <th>Positive</th>\n",
       "      <th>Negative</th>\n",
       "    </tr>\n",
       "  </thead>\n",
       "  <tbody>\n",
       "    <tr>\n",
       "      <th>0</th>\n",
       "      <td>13</td>\n",
       "      <td>7</td>\n",
       "    </tr>\n",
       "  </tbody>\n",
       "</table>\n",
       "</div>"
      ],
      "text/plain": [
       "   Positive  Negative\n",
       "0        13         7"
      ]
     },
     "execution_count": 31,
     "metadata": {},
     "output_type": "execute_result"
    }
   ],
   "source": [
    "for i in counts.index.values:\n",
    "    if i < 5:\n",
    "        bar[\"Negative\"] += counts.loc[i ,'Rating']\n",
    "    else:\n",
    "        bar[\"Positive\"] += counts.loc[i, 'Rating']\n",
    "        \n",
    "bar"
   ]
  },
  {
   "cell_type": "code",
   "execution_count": 32,
   "metadata": {},
   "outputs": [
    {
     "data": {
      "text/plain": [
       "<matplotlib.axes._subplots.AxesSubplot at 0x1205ad4e0>"
      ]
     },
     "execution_count": 32,
     "metadata": {},
     "output_type": "execute_result"
    },
    {
     "data": {
      "image/png": "[encoded data removed]",
      "text/plain": [
       "<Figure size 432x288 with 1 Axes>"
      ]
     },
     "metadata": {
      "needs_background": "light"
     },
     "output_type": "display_data"
    }
   ],
   "source": [
    "bar.plot(kind='bar', stacked=True)"
   ]
  },
  {
   "cell_type": "code",
   "execution_count": 26,
   "metadata": {},
   "outputs": [
    {
     "data": {
      "text/plain": [
       "<matplotlib.axes._subplots.AxesSubplot at 0x120554630>"
      ]
     },
     "execution_count": 26,
     "metadata": {},
     "output_type": "execute_result"
    },
    {
     "data": {
      "image/png": "[encoded data removed]",
      "text/plain": [
       "<Figure size 360x360 with 1 Axes>"
      ]
     },
     "metadata": {},
     "output_type": "display_data"
    }
   ],
   "source": [
    "counts.plot.pie(y='Rating', figsize=(5, 5))"
   ]
  },
  {
   "cell_type": "code",
   "execution_count": null,
   "metadata": {},
   "outputs": [],
   "source": []
  },
  {
   "cell_type": "code",
   "execution_count": null,
   "metadata": {},
   "outputs": [],
   "source": []
  },
  {
   "cell_type": "code",
   "execution_count": 9,
   "metadata": {},
   "outputs": [
    {
     "data": {
      "text/plain": [
       "MovieID\n",
       "tt0018294    1.000000\n",
       "tt0025227    4.000000\n",
       "tt0029836    2.500000\n",
       "tt0036723    2.333333\n",
       "tt0037595    1.000000\n",
       "tt0037620    1.000000\n",
       "tt0038286    8.500000\n",
       "tt0044417    2.166667\n",
       "tt0044778    4.000000\n",
       "tt0050634    8.833333\n",
       "tt0064990    4.000000\n",
       "tt0065611    6.600000\n",
       "tt0069994    1.666667\n",
       "tt0072930    1.000000\n",
       "tt0073271    1.000000\n",
       "tt0073906    1.666667\n",
       "tt0076478    2.000000\n",
       "tt0077245    1.500000\n",
       "tt0079261    2.800000\n",
       "tt0082084    5.764706\n",
       "tt0082525    1.000000\n",
       "tt0083973    2.142857\n",
       "tt0085461    8.333333\n",
       "tt0086071    4.000000\n",
       "tt0086544    2.000000\n",
       "tt0095357    3.000000\n",
       "tt0103886    7.428571\n",
       "tt0109576    3.500000\n",
       "tt0110604    3.000000\n",
       "tt0113638    4.000000\n",
       "               ...   \n",
       "tt0157784    1.000000\n",
       "tt0178928    1.800000\n",
       "tt0184474    8.307692\n",
       "tt0194773    2.750000\n",
       "tt0220173    2.384615\n",
       "tt0251094    2.000000\n",
       "tt0253016    4.000000\n",
       "tt0265298    1.000000\n",
       "tt0291257    1.000000\n",
       "tt0312859    1.000000\n",
       "tt0319477    3.000000\n",
       "tt0323571    1.571429\n",
       "tt0325129    8.250000\n",
       "tt0366518    2.200000\n",
       "tt0370402    3.000000\n",
       "tt0388784    3.000000\n",
       "tt0402014    2.000000\n",
       "tt0402590    2.000000\n",
       "tt0406816    7.470588\n",
       "tt0407936    8.833333\n",
       "tt0411674    2.900000\n",
       "tt0425659    1.000000\n",
       "tt0446687    1.333333\n",
       "tt0460834    3.000000\n",
       "tt0762073    8.227273\n",
       "tt0807716    2.500000\n",
       "tt0819714    2.000000\n",
       "tt0827521    2.375000\n",
       "tt0889579    2.500000\n",
       "tt0902952    2.000000\n",
       "Name: Rating, Length: 67, dtype: float64"
      ]
     },
     "execution_count": 9,
     "metadata": {},
     "output_type": "execute_result"
    }
   ],
   "source": [
    "df[\"Rating\"] = pd.to_numeric(df['Rating'])\n",
    "df.groupby([\"MovieID\"]).mean()['Rating']\n"
   ]
  },
  {
   "cell_type": "code",
   "execution_count": null,
   "metadata": {},
   "outputs": [],
   "source": []
  },
  {
   "cell_type": "code",
   "execution_count": null,
   "metadata": {},
   "outputs": [],
   "source": []
  },
  {
   "cell_type": "code",
   "execution_count": null,
   "metadata": {},
   "outputs": [],
   "source": []
  }
 ],
 "metadata": {
  "kernelspec": {
   "display_name": "Python 3",
   "language": "python",
   "name": "python3"
  },
  "language_info": {
   "codemirror_mode": {
    "name": "ipython",
    "version": 3
   },
   "file_extension": ".py",
   "mimetype": "text/x-python",
   "name": "python",
   "nbconvert_exporter": "python",
   "pygments_lexer": "ipython3",
   "version": "3.7.3"
  }
 },
 "nbformat": 4,
 "nbformat_minor": 2
}
